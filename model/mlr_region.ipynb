{
 "cells": [
  {
   "cell_type": "code",
   "execution_count": 4,
   "id": "32e43079",
   "metadata": {},
   "outputs": [],
   "source": [
    "# Importing the libraries\n",
    "import numpy as np\n",
    "import matplotlib.pyplot as plt\n",
    "import pandas as pd\n",
    "import pickle"
   ]
  },
  {
   "cell_type": "code",
   "execution_count": 6,
   "id": "1fb5d2cd",
   "metadata": {},
   "outputs": [
    {
     "data": {
      "text/html": [
       "<div>\n",
       "<style scoped>\n",
       "    .dataframe tbody tr th:only-of-type {\n",
       "        vertical-align: middle;\n",
       "    }\n",
       "\n",
       "    .dataframe tbody tr th {\n",
       "        vertical-align: top;\n",
       "    }\n",
       "\n",
       "    .dataframe thead th {\n",
       "        text-align: right;\n",
       "    }\n",
       "</style>\n",
       "<table border=\"1\" class=\"dataframe\">\n",
       "  <thead>\n",
       "    <tr style=\"text-align: right;\">\n",
       "      <th></th>\n",
       "      <th>TrainNo</th>\n",
       "      <th>TrainName</th>\n",
       "      <th>Type</th>\n",
       "      <th>Distance</th>\n",
       "      <th>Region</th>\n",
       "      <th>Day</th>\n",
       "      <th>DelayInMin</th>\n",
       "      <th>noUse</th>\n",
       "    </tr>\n",
       "  </thead>\n",
       "  <tbody>\n",
       "    <tr>\n",
       "      <th>0</th>\n",
       "      <td>12004</td>\n",
       "      <td>Lucknow Swarn Shatabdi</td>\n",
       "      <td>0</td>\n",
       "      <td>0</td>\n",
       "      <td>1</td>\n",
       "      <td>1</td>\n",
       "      <td>22</td>\n",
       "      <td>12.0</td>\n",
       "    </tr>\n",
       "    <tr>\n",
       "      <th>1</th>\n",
       "      <td>12004</td>\n",
       "      <td>Lucknow Swarn Shatabdi</td>\n",
       "      <td>0</td>\n",
       "      <td>0</td>\n",
       "      <td>1</td>\n",
       "      <td>2</td>\n",
       "      <td>36</td>\n",
       "      <td>26.0</td>\n",
       "    </tr>\n",
       "    <tr>\n",
       "      <th>2</th>\n",
       "      <td>12004</td>\n",
       "      <td>Lucknow Swarn Shatabdi</td>\n",
       "      <td>0</td>\n",
       "      <td>0</td>\n",
       "      <td>1</td>\n",
       "      <td>3</td>\n",
       "      <td>32</td>\n",
       "      <td>22.0</td>\n",
       "    </tr>\n",
       "    <tr>\n",
       "      <th>3</th>\n",
       "      <td>12004</td>\n",
       "      <td>Lucknow Swarn Shatabdi</td>\n",
       "      <td>0</td>\n",
       "      <td>0</td>\n",
       "      <td>1</td>\n",
       "      <td>4</td>\n",
       "      <td>26</td>\n",
       "      <td>16.0</td>\n",
       "    </tr>\n",
       "    <tr>\n",
       "      <th>4</th>\n",
       "      <td>12004</td>\n",
       "      <td>Lucknow Swarn Shatabdi</td>\n",
       "      <td>0</td>\n",
       "      <td>0</td>\n",
       "      <td>1</td>\n",
       "      <td>5</td>\n",
       "      <td>37</td>\n",
       "      <td>27.0</td>\n",
       "    </tr>\n",
       "  </tbody>\n",
       "</table>\n",
       "</div>"
      ],
      "text/plain": [
       "   TrainNo               TrainName  Type  Distance  Region  Day  DelayInMin  \\\n",
       "0    12004  Lucknow Swarn Shatabdi     0         0       1    1          22   \n",
       "1    12004  Lucknow Swarn Shatabdi     0         0       1    2          36   \n",
       "2    12004  Lucknow Swarn Shatabdi     0         0       1    3          32   \n",
       "3    12004  Lucknow Swarn Shatabdi     0         0       1    4          26   \n",
       "4    12004  Lucknow Swarn Shatabdi     0         0       1    5          37   \n",
       "\n",
       "   noUse  \n",
       "0   12.0  \n",
       "1   26.0  \n",
       "2   22.0  \n",
       "3   16.0  \n",
       "4   27.0  "
      ]
     },
     "execution_count": 6,
     "metadata": {},
     "output_type": "execute_result"
    }
   ],
   "source": [
    "dataset = pd.read_csv('train_data.csv')\n",
    "dataset.head()"
   ]
  },
  {
   "cell_type": "code",
   "execution_count": 14,
   "id": "fab14f8e",
   "metadata": {},
   "outputs": [
    {
     "data": {
      "text/html": [
       "<div>\n",
       "<style scoped>\n",
       "    .dataframe tbody tr th:only-of-type {\n",
       "        vertical-align: middle;\n",
       "    }\n",
       "\n",
       "    .dataframe tbody tr th {\n",
       "        vertical-align: top;\n",
       "    }\n",
       "\n",
       "    .dataframe thead th {\n",
       "        text-align: right;\n",
       "    }\n",
       "</style>\n",
       "<table border=\"1\" class=\"dataframe\">\n",
       "  <thead>\n",
       "    <tr style=\"text-align: right;\">\n",
       "      <th></th>\n",
       "      <th>TrainNo</th>\n",
       "      <th>TrainName</th>\n",
       "      <th>Type</th>\n",
       "      <th>Distance</th>\n",
       "      <th>Region</th>\n",
       "      <th>DelayInMin</th>\n",
       "    </tr>\n",
       "  </thead>\n",
       "  <tbody>\n",
       "    <tr>\n",
       "      <th>0</th>\n",
       "      <td>12004</td>\n",
       "      <td>Lucknow Swarn Shatabdi</td>\n",
       "      <td>0</td>\n",
       "      <td>0</td>\n",
       "      <td>1</td>\n",
       "      <td>22</td>\n",
       "    </tr>\n",
       "    <tr>\n",
       "      <th>1</th>\n",
       "      <td>12004</td>\n",
       "      <td>Lucknow Swarn Shatabdi</td>\n",
       "      <td>0</td>\n",
       "      <td>0</td>\n",
       "      <td>1</td>\n",
       "      <td>36</td>\n",
       "    </tr>\n",
       "    <tr>\n",
       "      <th>2</th>\n",
       "      <td>12004</td>\n",
       "      <td>Lucknow Swarn Shatabdi</td>\n",
       "      <td>0</td>\n",
       "      <td>0</td>\n",
       "      <td>1</td>\n",
       "      <td>32</td>\n",
       "    </tr>\n",
       "    <tr>\n",
       "      <th>3</th>\n",
       "      <td>12004</td>\n",
       "      <td>Lucknow Swarn Shatabdi</td>\n",
       "      <td>0</td>\n",
       "      <td>0</td>\n",
       "      <td>1</td>\n",
       "      <td>26</td>\n",
       "    </tr>\n",
       "    <tr>\n",
       "      <th>4</th>\n",
       "      <td>12004</td>\n",
       "      <td>Lucknow Swarn Shatabdi</td>\n",
       "      <td>0</td>\n",
       "      <td>0</td>\n",
       "      <td>1</td>\n",
       "      <td>37</td>\n",
       "    </tr>\n",
       "    <tr>\n",
       "      <th>...</th>\n",
       "      <td>...</td>\n",
       "      <td>...</td>\n",
       "      <td>...</td>\n",
       "      <td>...</td>\n",
       "      <td>...</td>\n",
       "      <td>...</td>\n",
       "    </tr>\n",
       "    <tr>\n",
       "      <th>449</th>\n",
       "      <td>12445</td>\n",
       "      <td>Uttar S Kranti</td>\n",
       "      <td>0</td>\n",
       "      <td>1</td>\n",
       "      <td>3</td>\n",
       "      <td>10</td>\n",
       "    </tr>\n",
       "    <tr>\n",
       "      <th>450</th>\n",
       "      <td>12445</td>\n",
       "      <td>Uttar S Kranti</td>\n",
       "      <td>0</td>\n",
       "      <td>1</td>\n",
       "      <td>3</td>\n",
       "      <td>5</td>\n",
       "    </tr>\n",
       "    <tr>\n",
       "      <th>451</th>\n",
       "      <td>12445</td>\n",
       "      <td>Uttar S Kranti</td>\n",
       "      <td>0</td>\n",
       "      <td>1</td>\n",
       "      <td>3</td>\n",
       "      <td>0</td>\n",
       "    </tr>\n",
       "    <tr>\n",
       "      <th>452</th>\n",
       "      <td>12445</td>\n",
       "      <td>Uttar S Kranti</td>\n",
       "      <td>0</td>\n",
       "      <td>1</td>\n",
       "      <td>3</td>\n",
       "      <td>14</td>\n",
       "    </tr>\n",
       "    <tr>\n",
       "      <th>453</th>\n",
       "      <td>12445</td>\n",
       "      <td>Uttar S Kranti</td>\n",
       "      <td>0</td>\n",
       "      <td>1</td>\n",
       "      <td>3</td>\n",
       "      <td>19</td>\n",
       "    </tr>\n",
       "  </tbody>\n",
       "</table>\n",
       "<p>454 rows × 6 columns</p>\n",
       "</div>"
      ],
      "text/plain": [
       "     TrainNo               TrainName  Type  Distance  Region  DelayInMin\n",
       "0      12004  Lucknow Swarn Shatabdi     0         0       1          22\n",
       "1      12004  Lucknow Swarn Shatabdi     0         0       1          36\n",
       "2      12004  Lucknow Swarn Shatabdi     0         0       1          32\n",
       "3      12004  Lucknow Swarn Shatabdi     0         0       1          26\n",
       "4      12004  Lucknow Swarn Shatabdi     0         0       1          37\n",
       "..       ...                     ...   ...       ...     ...         ...\n",
       "449    12445          Uttar S Kranti     0         1       3          10\n",
       "450    12445          Uttar S Kranti     0         1       3           5\n",
       "451    12445          Uttar S Kranti     0         1       3           0\n",
       "452    12445          Uttar S Kranti     0         1       3          14\n",
       "453    12445          Uttar S Kranti     0         1       3          19\n",
       "\n",
       "[454 rows x 6 columns]"
      ]
     },
     "execution_count": 14,
     "metadata": {},
     "output_type": "execute_result"
    }
   ],
   "source": [
    "# dataset.drop(columns=['Region'])\n",
    "# del dataset['noUse']\n",
    "# del dataset['Day']\n",
    "dataset"
   ]
  },
  {
   "cell_type": "code",
   "execution_count": 15,
   "id": "1142580f",
   "metadata": {},
   "outputs": [],
   "source": [
    "X = dataset.iloc[:, 2:5].values\n",
    "y = dataset.iloc[:, -1].values"
   ]
  },
  {
   "cell_type": "code",
   "execution_count": 17,
   "id": "23e2739e",
   "metadata": {},
   "outputs": [
    {
     "data": {
      "text/plain": [
       "array([1, 0, 1], dtype=int64)"
      ]
     },
     "execution_count": 17,
     "metadata": {},
     "output_type": "execute_result"
    }
   ],
   "source": [
    "X[53]"
   ]
  },
  {
   "cell_type": "code",
   "execution_count": 18,
   "id": "fbf8c8fc",
   "metadata": {},
   "outputs": [],
   "source": [
    "from sklearn.compose import ColumnTransformer\n",
    "from sklearn.preprocessing import OneHotEncoder\n",
    "ct = ColumnTransformer(transformers =[('encoder', OneHotEncoder(), [2])], remainder='passthrough')\n",
    "X = np.array(ct.fit_transform(X))"
   ]
  },
  {
   "cell_type": "code",
   "execution_count": 19,
   "id": "fd52af2c",
   "metadata": {},
   "outputs": [
    {
     "data": {
      "text/plain": [
       "array([1., 0., 0., 1., 0.])"
      ]
     },
     "execution_count": 19,
     "metadata": {},
     "output_type": "execute_result"
    }
   ],
   "source": [
    "X[53]"
   ]
  },
  {
   "cell_type": "code",
   "execution_count": 20,
   "id": "cf451d08",
   "metadata": {},
   "outputs": [
    {
     "data": {
      "text/plain": [
       "55"
      ]
     },
     "execution_count": 20,
     "metadata": {},
     "output_type": "execute_result"
    }
   ],
   "source": [
    "y[53]"
   ]
  },
  {
   "cell_type": "code",
   "execution_count": 21,
   "id": "1ce4e9b5",
   "metadata": {},
   "outputs": [],
   "source": [
    "from sklearn.model_selection import train_test_split\n",
    "X_train, X_test, y_train, y_test = train_test_split(X, y, test_size = 1/3, random_state = 0)"
   ]
  },
  {
   "cell_type": "code",
   "execution_count": 22,
   "id": "723d729d",
   "metadata": {},
   "outputs": [
    {
     "data": {
      "text/plain": [
       "LinearRegression()"
      ]
     },
     "execution_count": 22,
     "metadata": {},
     "output_type": "execute_result"
    }
   ],
   "source": [
    "from sklearn.linear_model import LinearRegression\n",
    "regressor = LinearRegression()\n",
    "regressor.fit(X_train, y_train)"
   ]
  },
  {
   "cell_type": "code",
   "execution_count": 23,
   "id": "a5cc0fc2",
   "metadata": {},
   "outputs": [
    {
     "name": "stdout",
     "output_type": "stream",
     "text": [
      "[1. 0. 0. 1. 0.]\n"
     ]
    }
   ],
   "source": [
    "print(X_test[1])"
   ]
  },
  {
   "cell_type": "code",
   "execution_count": 24,
   "id": "497e4245",
   "metadata": {},
   "outputs": [
    {
     "name": "stdout",
     "output_type": "stream",
     "text": [
      "[ 89.45989478 124.84171362 -95.03511163  61.00358671   0.67514696\n",
      " 185.17015337  29.13145503  61.00358671  61.00358671 124.84171362\n",
      "  21.80002749 185.17015337  61.00358671  61.00358671 185.17015337\n",
      "  29.13145503  89.45989478  29.13145503  29.13145503  21.80002749\n",
      "  21.80002749 -95.03511163  57.18184634  89.45989478 -95.03511163\n",
      " 185.17015337  61.00358671  21.80002749 -95.03511163  61.00358671\n",
      "  61.00358671  21.80002749 -95.03511163 124.84171362 185.17015337\n",
      "  61.00358671 -38.52841226   0.67514696   0.67514696   0.67514696\n",
      "  21.80002749   0.67514696   0.67514696 -95.03511163  61.00358671\n",
      "  61.00358671 185.17015337 185.17015337 185.17015337 124.84171362\n",
      "  57.18184634 -38.52841226  21.80002749  29.13145503  89.45989478\n",
      " 124.84171362  21.80002749  29.13145503 124.84171362  61.00358671\n",
      " 185.17015337  21.80002749   0.67514696 124.84171362  61.00358671\n",
      " 185.17015337 185.17015337 -38.52841226  61.00358671  61.00358671\n",
      " 185.17015337 -38.52841226   0.67514696 185.17015337 124.84171362\n",
      "  21.80002749 185.17015337  21.80002749 124.84171362 185.17015337\n",
      "  21.80002749 -38.52841226 185.17015337 -38.52841226   0.67514696\n",
      "  61.00358671 185.17015337  61.00358671  57.18184634 -38.52841226\n",
      " 124.84171362 124.84171362 124.84171362  29.13145503 124.84171362\n",
      "  89.45989478 185.17015337  29.13145503  21.80002749  61.00358671\n",
      " -38.52841226   0.67514696  29.13145503   0.67514696  29.13145503\n",
      "  57.18184634   0.67514696  89.45989478  29.13145503 185.17015337\n",
      "  21.80002749  29.13145503 124.84171362   0.67514696  29.13145503\n",
      "  57.18184634   0.67514696  29.13145503 -95.03511163  61.00358671\n",
      "  21.80002749 -38.52841226 185.17015337 124.84171362 124.84171362\n",
      " 124.84171362  57.18184634  57.18184634 124.84171362   0.67514696\n",
      " -95.03511163  61.00358671  57.18184634  21.80002749  57.18184634\n",
      "  61.00358671 -95.03511163  21.80002749  61.00358671   0.67514696\n",
      "  21.80002749 -95.03511163  89.45989478 -95.03511163 124.84171362\n",
      " -95.03511163 -38.52841226 -38.52841226   0.67514696 185.17015337\n",
      "   0.67514696 185.17015337]\n"
     ]
    }
   ],
   "source": [
    "y_pred = regressor.predict(X_test)\n",
    "print(y_pred)"
   ]
  },
  {
   "cell_type": "code",
   "execution_count": 29,
   "id": "49180622",
   "metadata": {},
   "outputs": [
    {
     "name": "stdout",
     "output_type": "stream",
     "text": [
      "[-38.52841226]\n"
     ]
    }
   ],
   "source": [
    "x = [[0,0,1,0,0]]\n",
    "print(regressor.predict(x))"
   ]
  }
 ],
 "metadata": {
  "kernelspec": {
   "display_name": "Python 3",
   "language": "python",
   "name": "python3"
  },
  "language_info": {
   "codemirror_mode": {
    "name": "ipython",
    "version": 3
   },
   "file_extension": ".py",
   "mimetype": "text/x-python",
   "name": "python",
   "nbconvert_exporter": "python",
   "pygments_lexer": "ipython3",
   "version": "3.8.8"
  }
 },
 "nbformat": 4,
 "nbformat_minor": 5
}
