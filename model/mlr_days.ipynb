{
 "cells": [
  {
   "cell_type": "code",
   "execution_count": 59,
   "id": "8d5141e1",
   "metadata": {},
   "outputs": [],
   "source": [
    "# Importing the libraries\n",
    "import numpy as np\n",
    "import matplotlib.pyplot as plt\n",
    "import pandas as pd\n",
    "import pickle"
   ]
  },
  {
   "cell_type": "code",
   "execution_count": 107,
   "id": "fb7bf93a",
   "metadata": {},
   "outputs": [
    {
     "data": {
      "text/html": [
       "<div>\n",
       "<style scoped>\n",
       "    .dataframe tbody tr th:only-of-type {\n",
       "        vertical-align: middle;\n",
       "    }\n",
       "\n",
       "    .dataframe tbody tr th {\n",
       "        vertical-align: top;\n",
       "    }\n",
       "\n",
       "    .dataframe thead th {\n",
       "        text-align: right;\n",
       "    }\n",
       "</style>\n",
       "<table border=\"1\" class=\"dataframe\">\n",
       "  <thead>\n",
       "    <tr style=\"text-align: right;\">\n",
       "      <th></th>\n",
       "      <th>TrainNo</th>\n",
       "      <th>TrainName</th>\n",
       "      <th>Type</th>\n",
       "      <th>Distance</th>\n",
       "      <th>Region</th>\n",
       "      <th>Day</th>\n",
       "      <th>DelayInMin</th>\n",
       "    </tr>\n",
       "  </thead>\n",
       "  <tbody>\n",
       "    <tr>\n",
       "      <th>0</th>\n",
       "      <td>12004</td>\n",
       "      <td>Lucknow Swarn Shatabdi</td>\n",
       "      <td>0</td>\n",
       "      <td>0</td>\n",
       "      <td>4</td>\n",
       "      <td>1</td>\n",
       "      <td>12</td>\n",
       "    </tr>\n",
       "    <tr>\n",
       "      <th>1</th>\n",
       "      <td>12004</td>\n",
       "      <td>Lucknow Swarn Shatabdi</td>\n",
       "      <td>0</td>\n",
       "      <td>0</td>\n",
       "      <td>4</td>\n",
       "      <td>2</td>\n",
       "      <td>26</td>\n",
       "    </tr>\n",
       "    <tr>\n",
       "      <th>2</th>\n",
       "      <td>12004</td>\n",
       "      <td>Lucknow Swarn Shatabdi</td>\n",
       "      <td>0</td>\n",
       "      <td>0</td>\n",
       "      <td>4</td>\n",
       "      <td>3</td>\n",
       "      <td>22</td>\n",
       "    </tr>\n",
       "    <tr>\n",
       "      <th>3</th>\n",
       "      <td>12004</td>\n",
       "      <td>Lucknow Swarn Shatabdi</td>\n",
       "      <td>0</td>\n",
       "      <td>0</td>\n",
       "      <td>4</td>\n",
       "      <td>4</td>\n",
       "      <td>16</td>\n",
       "    </tr>\n",
       "    <tr>\n",
       "      <th>4</th>\n",
       "      <td>12004</td>\n",
       "      <td>Lucknow Swarn Shatabdi</td>\n",
       "      <td>0</td>\n",
       "      <td>0</td>\n",
       "      <td>4</td>\n",
       "      <td>5</td>\n",
       "      <td>27</td>\n",
       "    </tr>\n",
       "  </tbody>\n",
       "</table>\n",
       "</div>"
      ],
      "text/plain": [
       "   TrainNo               TrainName  Type  Distance  Region  Day  DelayInMin\n",
       "0    12004  Lucknow Swarn Shatabdi     0         0       4    1          12\n",
       "1    12004  Lucknow Swarn Shatabdi     0         0       4    2          26\n",
       "2    12004  Lucknow Swarn Shatabdi     0         0       4    3          22\n",
       "3    12004  Lucknow Swarn Shatabdi     0         0       4    4          16\n",
       "4    12004  Lucknow Swarn Shatabdi     0         0       4    5          27"
      ]
     },
     "execution_count": 107,
     "metadata": {},
     "output_type": "execute_result"
    }
   ],
   "source": [
    "dataset = pd.read_csv('train_data.csv')\n",
    "dataset.head()"
   ]
  },
  {
   "cell_type": "code",
   "execution_count": 108,
   "id": "3a1ea2bc",
   "metadata": {},
   "outputs": [
    {
     "data": {
      "text/html": [
       "<div>\n",
       "<style scoped>\n",
       "    .dataframe tbody tr th:only-of-type {\n",
       "        vertical-align: middle;\n",
       "    }\n",
       "\n",
       "    .dataframe tbody tr th {\n",
       "        vertical-align: top;\n",
       "    }\n",
       "\n",
       "    .dataframe thead th {\n",
       "        text-align: right;\n",
       "    }\n",
       "</style>\n",
       "<table border=\"1\" class=\"dataframe\">\n",
       "  <thead>\n",
       "    <tr style=\"text-align: right;\">\n",
       "      <th></th>\n",
       "      <th>TrainNo</th>\n",
       "      <th>TrainName</th>\n",
       "      <th>Type</th>\n",
       "      <th>Distance</th>\n",
       "      <th>Day</th>\n",
       "      <th>DelayInMin</th>\n",
       "    </tr>\n",
       "  </thead>\n",
       "  <tbody>\n",
       "    <tr>\n",
       "      <th>0</th>\n",
       "      <td>12004</td>\n",
       "      <td>Lucknow Swarn Shatabdi</td>\n",
       "      <td>0</td>\n",
       "      <td>0</td>\n",
       "      <td>1</td>\n",
       "      <td>12</td>\n",
       "    </tr>\n",
       "    <tr>\n",
       "      <th>1</th>\n",
       "      <td>12004</td>\n",
       "      <td>Lucknow Swarn Shatabdi</td>\n",
       "      <td>0</td>\n",
       "      <td>0</td>\n",
       "      <td>2</td>\n",
       "      <td>26</td>\n",
       "    </tr>\n",
       "    <tr>\n",
       "      <th>2</th>\n",
       "      <td>12004</td>\n",
       "      <td>Lucknow Swarn Shatabdi</td>\n",
       "      <td>0</td>\n",
       "      <td>0</td>\n",
       "      <td>3</td>\n",
       "      <td>22</td>\n",
       "    </tr>\n",
       "    <tr>\n",
       "      <th>3</th>\n",
       "      <td>12004</td>\n",
       "      <td>Lucknow Swarn Shatabdi</td>\n",
       "      <td>0</td>\n",
       "      <td>0</td>\n",
       "      <td>4</td>\n",
       "      <td>16</td>\n",
       "    </tr>\n",
       "    <tr>\n",
       "      <th>4</th>\n",
       "      <td>12004</td>\n",
       "      <td>Lucknow Swarn Shatabdi</td>\n",
       "      <td>0</td>\n",
       "      <td>0</td>\n",
       "      <td>5</td>\n",
       "      <td>27</td>\n",
       "    </tr>\n",
       "    <tr>\n",
       "      <th>...</th>\n",
       "      <td>...</td>\n",
       "      <td>...</td>\n",
       "      <td>...</td>\n",
       "      <td>...</td>\n",
       "      <td>...</td>\n",
       "      <td>...</td>\n",
       "    </tr>\n",
       "    <tr>\n",
       "      <th>449</th>\n",
       "      <td>12529</td>\n",
       "      <td>north east express</td>\n",
       "      <td>1</td>\n",
       "      <td>1</td>\n",
       "      <td>3</td>\n",
       "      <td>323</td>\n",
       "    </tr>\n",
       "    <tr>\n",
       "      <th>450</th>\n",
       "      <td>12530</td>\n",
       "      <td>north east express</td>\n",
       "      <td>1</td>\n",
       "      <td>1</td>\n",
       "      <td>4</td>\n",
       "      <td>278</td>\n",
       "    </tr>\n",
       "    <tr>\n",
       "      <th>451</th>\n",
       "      <td>12531</td>\n",
       "      <td>north east express</td>\n",
       "      <td>1</td>\n",
       "      <td>1</td>\n",
       "      <td>5</td>\n",
       "      <td>367</td>\n",
       "    </tr>\n",
       "    <tr>\n",
       "      <th>452</th>\n",
       "      <td>12532</td>\n",
       "      <td>north east express</td>\n",
       "      <td>1</td>\n",
       "      <td>1</td>\n",
       "      <td>6</td>\n",
       "      <td>390</td>\n",
       "    </tr>\n",
       "    <tr>\n",
       "      <th>453</th>\n",
       "      <td>12533</td>\n",
       "      <td>north east express</td>\n",
       "      <td>1</td>\n",
       "      <td>1</td>\n",
       "      <td>7</td>\n",
       "      <td>430</td>\n",
       "    </tr>\n",
       "  </tbody>\n",
       "</table>\n",
       "<p>454 rows × 6 columns</p>\n",
       "</div>"
      ],
      "text/plain": [
       "     TrainNo               TrainName  Type  Distance  Day  DelayInMin\n",
       "0      12004  Lucknow Swarn Shatabdi     0         0    1          12\n",
       "1      12004  Lucknow Swarn Shatabdi     0         0    2          26\n",
       "2      12004  Lucknow Swarn Shatabdi     0         0    3          22\n",
       "3      12004  Lucknow Swarn Shatabdi     0         0    4          16\n",
       "4      12004  Lucknow Swarn Shatabdi     0         0    5          27\n",
       "..       ...                     ...   ...       ...  ...         ...\n",
       "449    12529      north east express     1         1    3         323\n",
       "450    12530      north east express     1         1    4         278\n",
       "451    12531      north east express     1         1    5         367\n",
       "452    12532      north east express     1         1    6         390\n",
       "453    12533      north east express     1         1    7         430\n",
       "\n",
       "[454 rows x 6 columns]"
      ]
     },
     "execution_count": 108,
     "metadata": {},
     "output_type": "execute_result"
    }
   ],
   "source": [
    "# dataset.drop(columns=['Region'])\n",
    "del dataset['Region']\n",
    "dataset"
   ]
  },
  {
   "cell_type": "code",
   "execution_count": 109,
   "id": "6701d5da",
   "metadata": {},
   "outputs": [],
   "source": [
    "X = dataset.iloc[:, 2:5].values\n",
    "y = dataset.iloc[:, -1].values"
   ]
  },
  {
   "cell_type": "code",
   "execution_count": 111,
   "id": "eaf18ac0",
   "metadata": {},
   "outputs": [
    {
     "data": {
      "text/plain": [
       "array([1, 0, 5], dtype=int64)"
      ]
     },
     "execution_count": 111,
     "metadata": {},
     "output_type": "execute_result"
    }
   ],
   "source": [
    "X[53]"
   ]
  },
  {
   "cell_type": "code",
   "execution_count": 112,
   "id": "4597f2ef",
   "metadata": {},
   "outputs": [],
   "source": [
    "from sklearn.compose import ColumnTransformer\n",
    "from sklearn.preprocessing import OneHotEncoder\n",
    "ct = ColumnTransformer(transformers =[('encoder', OneHotEncoder(), [2])], remainder='passthrough')\n",
    "X = np.array(ct.fit_transform(X))"
   ]
  },
  {
   "cell_type": "code",
   "execution_count": 114,
   "id": "6d231614",
   "metadata": {},
   "outputs": [
    {
     "data": {
      "text/plain": [
       "array([0., 0., 0., 0., 1., 0., 0., 1., 0.])"
      ]
     },
     "execution_count": 114,
     "metadata": {},
     "output_type": "execute_result"
    }
   ],
   "source": [
    "X[53]"
   ]
  },
  {
   "cell_type": "code",
   "execution_count": 115,
   "id": "8afd57fd",
   "metadata": {},
   "outputs": [
    {
     "data": {
      "text/plain": [
       "45"
      ]
     },
     "execution_count": 115,
     "metadata": {},
     "output_type": "execute_result"
    }
   ],
   "source": [
    "y[53]"
   ]
  },
  {
   "cell_type": "code",
   "execution_count": 116,
   "id": "c9251e14",
   "metadata": {},
   "outputs": [],
   "source": [
    "from sklearn.model_selection import train_test_split\n",
    "X_train, X_test, y_train, y_test = train_test_split(X, y, test_size = 1/3, random_state = 0)"
   ]
  },
  {
   "cell_type": "code",
   "execution_count": 117,
   "id": "94520b7c",
   "metadata": {},
   "outputs": [
    {
     "data": {
      "text/plain": [
       "LinearRegression()"
      ]
     },
     "execution_count": 117,
     "metadata": {},
     "output_type": "execute_result"
    }
   ],
   "source": [
    "from sklearn.linear_model import LinearRegression\n",
    "regressor = LinearRegression()\n",
    "regressor.fit(X_train, y_train)"
   ]
  },
  {
   "cell_type": "code",
   "execution_count": 118,
   "id": "8d9ad482",
   "metadata": {},
   "outputs": [
    {
     "name": "stdout",
     "output_type": "stream",
     "text": [
      "[0. 0. 0. 0. 0. 1. 0. 1. 0.]\n"
     ]
    }
   ],
   "source": [
    "print(X_test[1])"
   ]
  },
  {
   "cell_type": "code",
   "execution_count": 121,
   "id": "4e5091ee",
   "metadata": {},
   "outputs": [
    {
     "name": "stdout",
     "output_type": "stream",
     "text": [
      "[ 57.64  57.64  25.78  -8.68 -20.47  31.89  -6.25  95.85 107.38  55.21\n",
      "  57.72 119.17  55.28 -32.    25.78 -38.11  55.21 -32.   -25.64  43.49\n",
      " 121.6   57.72 107.38  31.89  43.41  43.41  -6.25  89.74  25.78 -25.64\n",
      "  31.96  45.89  57.64  45.81  55.21  43.49  25.85 -25.64  89.74  38.32\n",
      " 119.17  -6.25  43.41  55.21  31.96 107.38 109.78 109.78  25.78  31.89\n",
      " 121.6   55.28 119.17  -8.68 109.78  31.89 107.38 -32.    43.41 102.21\n",
      " 121.6  119.17 -20.47  25.78  38.32 107.38 121.6   45.89  -6.25  38.25\n",
      " 119.17 119.17 -25.64  45.81  38.25 109.78  31.89 119.17  45.81  95.85\n",
      "  31.96  31.96 109.78 102.21  43.41 -25.64  95.85  38.32 107.38  25.85\n",
      "  25.78  38.25  43.41  -6.25  38.25  38.25 109.78 -20.47 102.21 -18.07\n",
      " 107.38  25.78 -32.   -32.    -6.25 107.38  95.85  55.21 -38.11  95.85\n",
      "  57.72 -32.    57.64 107.38  -8.68  95.85  38.25 -38.11  45.89 -32.\n",
      "  89.74 109.78 107.38  57.64  31.89  55.21  89.74  89.74  43.41  43.49\n",
      "  43.49  89.74  89.74  89.74  95.85  -8.68  38.25 102.21 107.38  45.81\n",
      " 119.17  31.89  95.85  55.21  25.78  55.28  38.32  95.85 -18.07 121.6\n",
      "  57.64 109.78]\n"
     ]
    }
   ],
   "source": [
    "y_pred = regressor.predict(X_test)\n",
    "print(y_pred)"
   ]
  },
  {
   "cell_type": "code",
   "execution_count": 125,
   "id": "b551efbf",
   "metadata": {},
   "outputs": [
    {
     "name": "stdout",
     "output_type": "stream",
     "text": [
      "[57.64]\n"
     ]
    }
   ],
   "source": [
    "x = [[0,0,0,0,0,1,0,1,0]]\n",
    "print(regressor.predict(x))"
   ]
  },
  {
   "cell_type": "code",
   "execution_count": 126,
   "id": "23f88dee",
   "metadata": {},
   "outputs": [
    {
     "name": "stdout",
     "output_type": "stream",
     "text": [
      "[121.6]\n"
     ]
    }
   ],
   "source": [
    "x = [[0,0,0,0,0,1,0,1,1]]\n",
    "print(regressor.predict(x))"
   ]
  },
  {
   "cell_type": "code",
   "execution_count": 127,
   "id": "ed3f2e48",
   "metadata": {},
   "outputs": [
    {
     "name": "stdout",
     "output_type": "stream",
     "text": [
      "[-18.07]\n"
     ]
    }
   ],
   "source": [
    "x = [[0,0,1,0,0,0,0,0,0]]\n",
    "print(regressor.predict(x))"
   ]
  },
  {
   "cell_type": "code",
   "execution_count": 137,
   "id": "a5e59a33",
   "metadata": {},
   "outputs": [
    {
     "name": "stdout",
     "output_type": "stream",
     "text": [
      "[119.17]\n"
     ]
    }
   ],
   "source": [
    "x = [[0,0,0,0,0,0,1,1,1]]\n",
    "print(regressor.predict(x))"
   ]
  },
  {
   "cell_type": "code",
   "execution_count": 138,
   "id": "95a76205",
   "metadata": {},
   "outputs": [
    {
     "name": "stdout",
     "output_type": "stream",
     "text": [
      "[119.17]\n"
     ]
    }
   ],
   "source": [
    "x = [[0,0,0,0,0,0,1,1,1]]\n",
    "print(regressor.predict(x))"
   ]
  },
  {
   "cell_type": "code",
   "execution_count": 139,
   "id": "c5b1dc50",
   "metadata": {},
   "outputs": [
    {
     "name": "stdout",
     "output_type": "stream",
     "text": [
      "[121.6]\n"
     ]
    }
   ],
   "source": [
    "x = [[0,0,0,0,0,1,0,1,1]]\n",
    "print(regressor.predict(x))"
   ]
  },
  {
   "cell_type": "code",
   "execution_count": null,
   "id": "503dc917",
   "metadata": {},
   "outputs": [],
   "source": []
  }
 ],
 "metadata": {
  "kernelspec": {
   "display_name": "Python 3",
   "language": "python",
   "name": "python3"
  },
  "language_info": {
   "codemirror_mode": {
    "name": "ipython",
    "version": 3
   },
   "file_extension": ".py",
   "mimetype": "text/x-python",
   "name": "python",
   "nbconvert_exporter": "python",
   "pygments_lexer": "ipython3",
   "version": "3.8.8"
  }
 },
 "nbformat": 4,
 "nbformat_minor": 5
}
